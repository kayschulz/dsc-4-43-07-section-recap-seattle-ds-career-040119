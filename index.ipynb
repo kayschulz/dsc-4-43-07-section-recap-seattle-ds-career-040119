{
 "cells": [
  {
   "cell_type": "markdown",
   "metadata": {},
   "source": [
    "# Section Recap"
   ]
  },
  {
   "cell_type": "markdown",
   "metadata": {},
   "source": [
    "## Introduction\n",
    "\n",
    "This short lesson summarizes key takeaways from section 43."
   ]
  },
  {
   "cell_type": "markdown",
   "metadata": {},
   "source": [
    "## Objectives\n",
    "You will be able to:\n",
    "* Understand and explain what was covered in this section\n",
    "* Understand and explain why this section will help you become a data scientist"
   ]
  },
  {
   "cell_type": "markdown",
   "metadata": {},
   "source": [
    "## Key Takeaways\n",
    "\n",
    "The key takeaways from this section include:\n",
    "\n",
    "* CNN are often preferred over densely connected networks when the goal is to perform image classification\n",
    "* Using CNNs instead of densely connected networks can drastically decrease the amount of parameters needed (and as a consequence, increase the speed)\n",
    "* When building a CNN, the end of the network architecture always connects back to a densely connected network to perform classification\n",
    "* At the most basic level, a convolution is particularly good at detecting small image features, such as horizontal or vertical edges\n",
    "* Convolutions use *filter* to detect these small patterns, and these filters are generally of size 3x3 or 5x5.\n",
    "* In CNNs, padding can be used to prevent shrinkage and to make sure pixels at the edge of an image deserve the necessary attention\n",
    "* To understand CNN structures and how the dimensions change in each layer, it is important to understand how filters work and how the number of filters affect the network structure.\n",
    "* When visualizing intermediate layers in a CNN, you noticed that images become more abstract with each layer we add to a CNN"
   ]
  }
 ],
 "metadata": {
  "kernelspec": {
   "display_name": "Python 3",
   "language": "python",
   "name": "python3"
  },
  "language_info": {
   "codemirror_mode": {
    "name": "ipython",
    "version": 3
   },
   "file_extension": ".py",
   "mimetype": "text/x-python",
   "name": "python",
   "nbconvert_exporter": "python",
   "pygments_lexer": "ipython3",
   "version": "3.6.6"
  }
 },
 "nbformat": 4,
 "nbformat_minor": 2
}
